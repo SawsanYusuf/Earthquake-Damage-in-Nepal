{
  "nbformat": 4,
  "nbformat_minor": 0,
  "metadata": {
    "colab": {
      "provenance": []
    },
    "kernelspec": {
      "name": "python3",
      "display_name": "Python 3"
    },
    "language_info": {
      "name": "python"
    }
  },
  "cells": [
    {
      "cell_type": "markdown",
      "source": [
        "<font size=\"+3\"><strong>Wrangling Data with SQL</strong></font>"
      ],
      "metadata": {
        "id": "qPh_o5o2rRHx"
      }
    },
    {
      "cell_type": "code",
      "execution_count": null,
      "metadata": {
        "id": "qJRUa7MUyCo-"
      },
      "outputs": [],
      "source": [
        "# Import libraries\n",
        "import sqlite3\n",
        "import pandas as pd"
      ]
    },
    {
      "cell_type": "markdown",
      "source": [
        "# Prepare Data\n",
        "\n",
        "## Connect"
      ],
      "metadata": {
        "id": "MLpakiOCrVXI"
      }
    },
    {
      "cell_type": "code",
      "source": [
        "%load_ext sql\n",
        "\n",
        "%%sql sqlite:///nepal.db"
      ],
      "metadata": {
        "id": "VZVergKQ10mD"
      },
      "execution_count": null,
      "outputs": []
    },
    {
      "cell_type": "markdown",
      "source": [
        "## Explore"
      ],
      "metadata": {
        "id": "oE3-tYCdsHnm"
      }
    },
    {
      "cell_type": "code",
      "source": [
        "# How many tables are in the nepal.db database? What information do they hold?\n",
        "\n",
        "%%sql\n",
        "SELECT * FROM sqlite_schema"
      ],
      "metadata": {
        "id": "K6xtRgRm1FoB",
        "colab": {
          "base_uri": "https://localhost:8080/",
          "height": 1000
        },
        "outputId": "af7a0ca6-2ba7-48fc-c29b-60691962a884"
      },
      "execution_count": null,
      "outputs": [
        {
          "output_type": "stream",
          "name": "stdout",
          "text": [
            "   sqlite:////nepal.db\n",
            " * sqlite:///nepal.db\n",
            "Done.\n"
          ]
        },
        {
          "output_type": "execute_result",
          "data": {
            "text/plain": [
              "[('table', 'building_damage', 'building_damage', 2, 'CREATE TABLE \"building_damage\" (\\n\\t\"building_id\"\\tINTEGER,\\n\\t\"district_id\"\\tINTEGER,\\n\\t\"vdcmun_id\"\\tINTEGER,\\n\\t\"ward_id\"\\tINTEGER,\\n\\t\"damage_ove ... (3076 characters truncated) ... ide\"\\tINTEGER,\\n\\t\"has_geotechnical_risk_rock_fall\"\\tINTEGER,\\n\\t\"has_geotechnical_risk_flood\"\\tINTEGER,\\n\\t\"has_geotechnical_risk_other\"\\tINTEGER\\n)'),\n",
              " ('table', 'building_structure', 'building_structure', 3, 'CREATE TABLE \"building_structure\" (\\n\\t\"building_id\"\\tINTEGER,\\n\\t\"count_floors_pre_eq\"\\tINTEGER,\\n\\t\"count_floors_post_eq\"\\tINTEGER,\\n\\t\"age_buildin ... (256 characters truncated) ... \\t\"position\"\\tTEXT,\\n\\t\"plan_configuration\"\\tTEXT,\\n\\t\"condition_post_eq\"\\tTEXT,\\n\\t\"technical_solution_proposed\"\\tTEXT,\\n\\t\"superstructure\"\\tTEXT\\n)'),\n",
              " ('table', 'household_demographics', 'household_demographics', 4, 'CREATE TABLE \"household_demographics\" (\\n\\t\"household_id\"\\tINTEGER,\\n\\t\"gender_household_head\"\\tTEXT,\\n\\t\"age_household_head\"\\tINTEGER,\\n\\t\"caste_hou ... (27 characters truncated) ... n_level_household_head\"\\tTEXT,\\n\\t\"income_level_household\"\\tTEXT,\\n\\t\"size_household\"\\tINTEGER,\\n\\t\"is_bank_account_present_in_household\"\\tINTEGER\\n)'),\n",
              " ('table', 'id_maps', 'id_maps', 7, 'CREATE TABLE \"id_maps\" (\\n\\t\"building_id\"\\tINTEGER,\\n\\t\"district_id\"\\tINTEGER,\\n\\t\"vdcmun_id\"\\tINTEGER,\\n\\t\"household_id\"\\tINTEGER\\n)')]"
            ],
            "text/html": [
              "<table>\n",
              "    <thead>\n",
              "        <tr>\n",
              "            <th>type</th>\n",
              "            <th>name</th>\n",
              "            <th>tbl_name</th>\n",
              "            <th>rootpage</th>\n",
              "            <th>sql</th>\n",
              "        </tr>\n",
              "    </thead>\n",
              "    <tbody>\n",
              "        <tr>\n",
              "            <td>table</td>\n",
              "            <td>building_damage</td>\n",
              "            <td>building_damage</td>\n",
              "            <td>2</td>\n",
              "            <td>CREATE TABLE &quot;building_damage&quot; (<br>\t&quot;building_id&quot;\tINTEGER,<br>\t&quot;district_id&quot;\tINTEGER,<br>\t&quot;vdcmun_id&quot;\tINTEGER,<br>\t&quot;ward_id&quot;\tINTEGER,<br>\t&quot;damage_overall_collapse&quot;\tTEXT,<br>\t&quot;damage_overall_leaning&quot;\tTEXT,<br>\t&quot;damage_overall_adjacent_building_risk&quot;\tTEXT,<br>\t&quot;damage_foundation_severe&quot;\tTEXT,<br>\t&quot;damage_foundation_moderate&quot;\tTEXT,<br>\t&quot;damage_foundation_insignificant&quot;\tTEXT,<br>\t&quot;damage_roof_severe&quot;\tTEXT,<br>\t&quot;damage_roof_moderate&quot;\tTEXT,<br>\t&quot;damage_roof_insignificant&quot;\tTEXT,<br>\t&quot;damage_corner_separation_severe&quot;\tTEXT,<br>\t&quot;damage_corner_separation_moderate&quot;\tTEXT,<br>\t&quot;damage_corner_separation_insignificant&quot;\tTEXT,<br>\t&quot;damage_diagonal_cracking_severe&quot;\tTEXT,<br>\t&quot;damage_diagonal_cracking_moderate&quot;\tTEXT,<br>\t&quot;damage_diagonal_cracking_insignificant&quot;\tTEXT,<br>\t&quot;damage_in_plane_failure_severe&quot;\tTEXT,<br>\t&quot;damage_in_plane_failure_moderate&quot;\tTEXT,<br>\t&quot;damage_in_plane_failure_insignificant&quot;\tTEXT,<br>\t&quot;damage_out_of_plane_failure_severe&quot;\tTEXT,<br>\t&quot;damage_out_of_plane_failure_moderate&quot;\tTEXT,<br>\t&quot;damage_out_of_plane_failure_insignificant&quot;\tTEXT,<br>\t&quot;damage_out_of_plane_failure_walls_ncfr_severe&quot;\tTEXT,<br>\t&quot;damage_out_of_plane_failure_walls_ncfr_moderate&quot;\tTEXT,<br>\t&quot;damage_out_of_plane_failure_walls_ncfr_insignificant&quot;\tTEXT,<br>\t&quot;damage_gable_failure_severe&quot;\tTEXT,<br>\t&quot;damage_gable_failure_moderate&quot;\tTEXT,<br>\t&quot;damage_gable_failure_insignificant&quot;\tTEXT,<br>\t&quot;damage_delamination_failure_severe&quot;\tTEXT,<br>\t&quot;damage_delamination_failure_moderate&quot;\tTEXT,<br>\t&quot;damage_delamination_failure_insignificant&quot;\tTEXT,<br>\t&quot;damage_column_failure_severe&quot;\tTEXT,<br>\t&quot;damage_column_failure_moderate&quot;\tTEXT,<br>\t&quot;damage_column_failure_insignificant&quot;\tTEXT,<br>\t&quot;damage_beam_failure_severe&quot;\tTEXT,<br>\t&quot;damage_beam_failure_moderate&quot;\tTEXT,<br>\t&quot;damage_beam_failure_insignificant&quot;\tTEXT,<br>\t&quot;damage_infill_partition_failure_severe&quot;\tTEXT,<br>\t&quot;damage_infill_partition_failure_moderate&quot;\tTEXT,<br>\t&quot;damage_infill_partition_failure_insignificant&quot;\tTEXT,<br>\t&quot;damage_staircase_severe&quot;\tTEXT,<br>\t&quot;damage_staircase_moderate&quot;\tTEXT,<br>\t&quot;damage_staircase_insignificant&quot;\tTEXT,<br>\t&quot;damage_parapet_severe&quot;\tTEXT,<br>\t&quot;damage_parapet_moderate&quot;\tTEXT,<br>\t&quot;damage_parapet_insignificant&quot;\tTEXT,<br>\t&quot;damage_cladding_glazing_severe&quot;\tTEXT,<br>\t&quot;damage_cladding_glazing_moderate&quot;\tTEXT,<br>\t&quot;damage_cladding_glazing_insignificant&quot;\tTEXT,<br>\t&quot;area_assesed&quot;\tTEXT,<br>\t&quot;damage_grade&quot;\tTEXT,<br>\t&quot;technical_solution_proposed&quot;\tTEXT,<br>\t&quot;has_repair_started&quot;\tTEXT,<br>\t&quot;has_damage_foundation&quot;\tTEXT,<br>\t&quot;has_damage_roof&quot;\tTEXT,<br>\t&quot;has_damage_corner_separation&quot;\tTEXT,<br>\t&quot;has_damage_diagonal_cracking&quot;\tTEXT,<br>\t&quot;has_damage_in_plane_failure&quot;\tTEXT,<br>\t&quot;has_damage_out_of_plane_failure&quot;\tTEXT,<br>\t&quot;has_damage_out_of_plane_walls_ncfr_failure&quot;\tTEXT,<br>\t&quot;has_damage_gable_failure&quot;\tTEXT,<br>\t&quot;has_damage_delamination_failure&quot;\tTEXT,<br>\t&quot;has_damage_column_failure&quot;\tTEXT,<br>\t&quot;has_damage_beam_failure&quot;\tTEXT,<br>\t&quot;has_damage_infill_partition_failure&quot;\tTEXT,<br>\t&quot;has_damage_staircase&quot;\tTEXT,<br>\t&quot;has_damage_parapet&quot;\tTEXT,<br>\t&quot;has_damage_cladding_glazing&quot;\tTEXT,<br>\t&quot;has_geotechnical_risk&quot;\tREAL,<br>\t&quot;has_geotechnical_risk_land_settlement&quot;\tINTEGER,<br>\t&quot;has_geotechnical_risk_fault_crack&quot;\tINTEGER,<br>\t&quot;has_geotechnical_risk_liquefaction&quot;\tINTEGER,<br>\t&quot;has_geotechnical_risk_landslide&quot;\tINTEGER,<br>\t&quot;has_geotechnical_risk_rock_fall&quot;\tINTEGER,<br>\t&quot;has_geotechnical_risk_flood&quot;\tINTEGER,<br>\t&quot;has_geotechnical_risk_other&quot;\tINTEGER<br>)</td>\n",
              "        </tr>\n",
              "        <tr>\n",
              "            <td>table</td>\n",
              "            <td>building_structure</td>\n",
              "            <td>building_structure</td>\n",
              "            <td>3</td>\n",
              "            <td>CREATE TABLE &quot;building_structure&quot; (<br>\t&quot;building_id&quot;\tINTEGER,<br>\t&quot;count_floors_pre_eq&quot;\tINTEGER,<br>\t&quot;count_floors_post_eq&quot;\tINTEGER,<br>\t&quot;age_building&quot;\tINTEGER,<br>\t&quot;plinth_area_sq_ft&quot;\tINTEGER,<br>\t&quot;height_ft_pre_eq&quot;\tINTEGER,<br>\t&quot;height_ft_post_eq&quot;\tINTEGER,<br>\t&quot;land_surface_condition&quot;\tTEXT,<br>\t&quot;foundation_type&quot;\tTEXT,<br>\t&quot;roof_type&quot;\tTEXT,<br>\t&quot;ground_floor_type&quot;\tTEXT,<br>\t&quot;other_floor_type&quot;\tTEXT,<br>\t&quot;position&quot;\tTEXT,<br>\t&quot;plan_configuration&quot;\tTEXT,<br>\t&quot;condition_post_eq&quot;\tTEXT,<br>\t&quot;technical_solution_proposed&quot;\tTEXT,<br>\t&quot;superstructure&quot;\tTEXT<br>)</td>\n",
              "        </tr>\n",
              "        <tr>\n",
              "            <td>table</td>\n",
              "            <td>household_demographics</td>\n",
              "            <td>household_demographics</td>\n",
              "            <td>4</td>\n",
              "            <td>CREATE TABLE &quot;household_demographics&quot; (<br>\t&quot;household_id&quot;\tINTEGER,<br>\t&quot;gender_household_head&quot;\tTEXT,<br>\t&quot;age_household_head&quot;\tINTEGER,<br>\t&quot;caste_household&quot;\tTEXT,<br>\t&quot;education_level_household_head&quot;\tTEXT,<br>\t&quot;income_level_household&quot;\tTEXT,<br>\t&quot;size_household&quot;\tINTEGER,<br>\t&quot;is_bank_account_present_in_household&quot;\tINTEGER<br>)</td>\n",
              "        </tr>\n",
              "        <tr>\n",
              "            <td>table</td>\n",
              "            <td>id_maps</td>\n",
              "            <td>id_maps</td>\n",
              "            <td>7</td>\n",
              "            <td>CREATE TABLE &quot;id_maps&quot; (<br>\t&quot;building_id&quot;\tINTEGER,<br>\t&quot;district_id&quot;\tINTEGER,<br>\t&quot;vdcmun_id&quot;\tINTEGER,<br>\t&quot;household_id&quot;\tINTEGER<br>)</td>\n",
              "        </tr>\n",
              "    </tbody>\n",
              "</table>"
            ]
          },
          "metadata": {},
          "execution_count": 54
        }
      ]
    },
    {
      "cell_type": "code",
      "source": [
        "# Select the name column from the sqlite_schema table, showing only rows where the type is \"table\"\n",
        "\n",
        "%%sql\n",
        "SELECT name\n",
        "FROM sqlite_schema\n",
        "WHERE type = \"table\""
      ],
      "metadata": {
        "id": "ddYfW9_JS0QC",
        "colab": {
          "base_uri": "https://localhost:8080/",
          "height": 177
        },
        "outputId": "ab0e7862-1d2c-4214-b363-ca405cbb88b1"
      },
      "execution_count": null,
      "outputs": [
        {
          "output_type": "stream",
          "name": "stdout",
          "text": [
            "   sqlite:////nepal.db\n",
            " * sqlite:///nepal.db\n",
            "Done.\n"
          ]
        },
        {
          "output_type": "execute_result",
          "data": {
            "text/plain": [
              "[('building_damage',),\n",
              " ('building_structure',),\n",
              " ('household_demographics',),\n",
              " ('id_maps',)]"
            ],
            "text/html": [
              "<table>\n",
              "    <thead>\n",
              "        <tr>\n",
              "            <th>name</th>\n",
              "        </tr>\n",
              "    </thead>\n",
              "    <tbody>\n",
              "        <tr>\n",
              "            <td>building_damage</td>\n",
              "        </tr>\n",
              "        <tr>\n",
              "            <td>building_structure</td>\n",
              "        </tr>\n",
              "        <tr>\n",
              "            <td>household_demographics</td>\n",
              "        </tr>\n",
              "        <tr>\n",
              "            <td>id_maps</td>\n",
              "        </tr>\n",
              "    </tbody>\n",
              "</table>"
            ]
          },
          "metadata": {},
          "execution_count": 55
        }
      ]
    },
    {
      "cell_type": "markdown",
      "source": [
        "How is the data organized? What type of observation does each row represent? How\n",
        "the **household_id**, **building_id**, **vdcmun_id**, and **district_id** columns are related to each other?"
      ],
      "metadata": {
        "id": "A1fvuNYSwS5r"
      }
    },
    {
      "cell_type": "code",
      "source": [
        "# Select all columns from the id_map table, with limiting our results to the first five rows\n",
        "\n",
        "%%sql\n",
        "select * from id_maps limit 5"
      ],
      "metadata": {
        "colab": {
          "base_uri": "https://localhost:8080/",
          "height": 218
        },
        "id": "dvv388ggxCRk",
        "outputId": "c8a94ebb-a74a-4f6b-b0d8-0580cf5f0d08"
      },
      "execution_count": null,
      "outputs": [
        {
          "output_type": "stream",
          "name": "stdout",
          "text": [
            "   sqlite:////nepal.db\n",
            " * sqlite:///nepal.db\n",
            "Done.\n"
          ]
        },
        {
          "output_type": "execute_result",
          "data": {
            "text/plain": [
              "[(120101000011, 12, 1207, 12010100001101),\n",
              " (120101000021, 12, 1207, 12010100002101),\n",
              " (120101000031, 12, 1207, 12010100003101),\n",
              " (120101000041, 12, 1207, 12010100004101),\n",
              " (120101000051, 12, 1207, 12010100005101)]"
            ],
            "text/html": [
              "<table>\n",
              "    <thead>\n",
              "        <tr>\n",
              "            <th>building_id</th>\n",
              "            <th>district_id</th>\n",
              "            <th>vdcmun_id</th>\n",
              "            <th>household_id</th>\n",
              "        </tr>\n",
              "    </thead>\n",
              "    <tbody>\n",
              "        <tr>\n",
              "            <td>120101000011</td>\n",
              "            <td>12</td>\n",
              "            <td>1207</td>\n",
              "            <td>12010100001101</td>\n",
              "        </tr>\n",
              "        <tr>\n",
              "            <td>120101000021</td>\n",
              "            <td>12</td>\n",
              "            <td>1207</td>\n",
              "            <td>12010100002101</td>\n",
              "        </tr>\n",
              "        <tr>\n",
              "            <td>120101000031</td>\n",
              "            <td>12</td>\n",
              "            <td>1207</td>\n",
              "            <td>12010100003101</td>\n",
              "        </tr>\n",
              "        <tr>\n",
              "            <td>120101000041</td>\n",
              "            <td>12</td>\n",
              "            <td>1207</td>\n",
              "            <td>12010100004101</td>\n",
              "        </tr>\n",
              "        <tr>\n",
              "            <td>120101000051</td>\n",
              "            <td>12</td>\n",
              "            <td>1207</td>\n",
              "            <td>12010100005101</td>\n",
              "        </tr>\n",
              "    </tbody>\n",
              "</table>"
            ]
          },
          "metadata": {},
          "execution_count": 56
        }
      ]
    },
    {
      "cell_type": "code",
      "source": [
        "# How many observations are in the id_maps table?\n",
        "\n",
        "%%sql\n",
        "select count(*) from id_maps"
      ],
      "metadata": {
        "id": "ji5wGw4faN-2",
        "colab": {
          "base_uri": "https://localhost:8080/",
          "height": 113
        },
        "outputId": "4d82e59a-bef8-412f-837f-db3b0fa5bdc9"
      },
      "execution_count": null,
      "outputs": [
        {
          "output_type": "stream",
          "name": "stdout",
          "text": [
            "   sqlite:////nepal.db\n",
            " * sqlite:///nepal.db\n",
            "Done.\n"
          ]
        },
        {
          "output_type": "execute_result",
          "data": {
            "text/plain": [
              "[(261343,)]"
            ],
            "text/html": [
              "<table>\n",
              "    <thead>\n",
              "        <tr>\n",
              "            <th>count(*)</th>\n",
              "        </tr>\n",
              "    </thead>\n",
              "    <tbody>\n",
              "        <tr>\n",
              "            <td>261343</td>\n",
              "        </tr>\n",
              "    </tbody>\n",
              "</table>"
            ]
          },
          "metadata": {},
          "execution_count": 57
        }
      ]
    },
    {
      "cell_type": "code",
      "source": [
        "# What districts are represented in the id_maps table?\n",
        "\n",
        "%%sql\n",
        "select distinct(district_id)\n",
        "from id_maps"
      ],
      "metadata": {
        "id": "I49TOcekaPz6",
        "colab": {
          "base_uri": "https://localhost:8080/",
          "height": 177
        },
        "outputId": "a3359003-adbf-4624-adb7-a3f0ed2f54d6"
      },
      "execution_count": null,
      "outputs": [
        {
          "output_type": "stream",
          "name": "stdout",
          "text": [
            "   sqlite:////nepal.db\n",
            " * sqlite:///nepal.db\n",
            "Done.\n"
          ]
        },
        {
          "output_type": "execute_result",
          "data": {
            "text/plain": [
              "[(12,), (22,), (24,), (36,)]"
            ],
            "text/html": [
              "<table>\n",
              "    <thead>\n",
              "        <tr>\n",
              "            <th>district_id</th>\n",
              "        </tr>\n",
              "    </thead>\n",
              "    <tbody>\n",
              "        <tr>\n",
              "            <td>12</td>\n",
              "        </tr>\n",
              "        <tr>\n",
              "            <td>22</td>\n",
              "        </tr>\n",
              "        <tr>\n",
              "            <td>24</td>\n",
              "        </tr>\n",
              "        <tr>\n",
              "            <td>36</td>\n",
              "        </tr>\n",
              "    </tbody>\n",
              "</table>"
            ]
          },
          "metadata": {},
          "execution_count": 58
        }
      ]
    },
    {
      "cell_type": "code",
      "source": [
        "# How many buildings are there in id_maps table?\n",
        "\n",
        "%%sql\n",
        "select count(distinct (building_id))\n",
        "from id_maps"
      ],
      "metadata": {
        "id": "E_Qy8BGmaRJP",
        "colab": {
          "base_uri": "https://localhost:8080/",
          "height": 113
        },
        "outputId": "cd74fd59-ac10-40e5-9d07-e96155c626cb"
      },
      "execution_count": null,
      "outputs": [
        {
          "output_type": "stream",
          "name": "stdout",
          "text": [
            "   sqlite:////nepal.db\n",
            " * sqlite:///nepal.db\n",
            "Done.\n"
          ]
        },
        {
          "output_type": "execute_result",
          "data": {
            "text/plain": [
              "[(261343,)]"
            ],
            "text/html": [
              "<table>\n",
              "    <thead>\n",
              "        <tr>\n",
              "            <th>count(distinct (building_id))</th>\n",
              "        </tr>\n",
              "    </thead>\n",
              "    <tbody>\n",
              "        <tr>\n",
              "            <td>261343</td>\n",
              "        </tr>\n",
              "    </tbody>\n",
              "</table>"
            ]
          },
          "metadata": {},
          "execution_count": 59
        }
      ]
    },
    {
      "cell_type": "code",
      "source": [
        "\"\"\"\n",
        "    For our model, we’ll focus on Gorkha (district 36).\n",
        "    Select all columns that from id_maps, showing only rows where the district_id is 36.\n",
        "\n",
        "\"\"\"\n",
        "\n",
        "%%sql\n",
        "select *\n",
        "from id_maps\n",
        "where district_id = 36\n",
        "limit 5"
      ],
      "metadata": {
        "id": "xrJC0XRoaSKZ",
        "colab": {
          "base_uri": "https://localhost:8080/",
          "height": 218
        },
        "outputId": "2aa9311e-4e82-48c2-e870-b0193ea29699"
      },
      "execution_count": null,
      "outputs": [
        {
          "output_type": "stream",
          "name": "stdout",
          "text": [
            "   sqlite:////nepal.db\n",
            " * sqlite:///nepal.db\n",
            "Done.\n"
          ]
        },
        {
          "output_type": "execute_result",
          "data": {
            "text/plain": [
              "[(360106001171, 36, 3609, 31350400116101),\n",
              " (360106001181, 36, 3609, 31350500019101),\n",
              " (360107000161, 36, 3609, 31350500043101),\n",
              " (360107000381, 36, 3609, 31350500064101),\n",
              " (360202000691, 36, 3601, 31350800030101)]"
            ],
            "text/html": [
              "<table>\n",
              "    <thead>\n",
              "        <tr>\n",
              "            <th>building_id</th>\n",
              "            <th>district_id</th>\n",
              "            <th>vdcmun_id</th>\n",
              "            <th>household_id</th>\n",
              "        </tr>\n",
              "    </thead>\n",
              "    <tbody>\n",
              "        <tr>\n",
              "            <td>360106001171</td>\n",
              "            <td>36</td>\n",
              "            <td>3609</td>\n",
              "            <td>31350400116101</td>\n",
              "        </tr>\n",
              "        <tr>\n",
              "            <td>360106001181</td>\n",
              "            <td>36</td>\n",
              "            <td>3609</td>\n",
              "            <td>31350500019101</td>\n",
              "        </tr>\n",
              "        <tr>\n",
              "            <td>360107000161</td>\n",
              "            <td>36</td>\n",
              "            <td>3609</td>\n",
              "            <td>31350500043101</td>\n",
              "        </tr>\n",
              "        <tr>\n",
              "            <td>360107000381</td>\n",
              "            <td>36</td>\n",
              "            <td>3609</td>\n",
              "            <td>31350500064101</td>\n",
              "        </tr>\n",
              "        <tr>\n",
              "            <td>360202000691</td>\n",
              "            <td>36</td>\n",
              "            <td>3601</td>\n",
              "            <td>31350800030101</td>\n",
              "        </tr>\n",
              "    </tbody>\n",
              "</table>"
            ]
          },
          "metadata": {},
          "execution_count": 60
        }
      ]
    },
    {
      "cell_type": "code",
      "source": [
        "# How many observations in the id_maps table come from Gorkha?\n",
        "\n",
        "%%sql\n",
        "select count(*) from id_maps where district_id = 36"
      ],
      "metadata": {
        "id": "M2WTJ32iagmH",
        "colab": {
          "base_uri": "https://localhost:8080/",
          "height": 113
        },
        "outputId": "e4f67d02-e0c6-4d9d-e08e-5dc4eaea1668"
      },
      "execution_count": null,
      "outputs": [
        {
          "output_type": "stream",
          "name": "stdout",
          "text": [
            "   sqlite:////nepal.db\n",
            " * sqlite:///nepal.db\n",
            "Done.\n"
          ]
        },
        {
          "output_type": "execute_result",
          "data": {
            "text/plain": [
              "[(63333,)]"
            ],
            "text/html": [
              "<table>\n",
              "    <thead>\n",
              "        <tr>\n",
              "            <th>count(*)</th>\n",
              "        </tr>\n",
              "    </thead>\n",
              "    <tbody>\n",
              "        <tr>\n",
              "            <td>63333</td>\n",
              "        </tr>\n",
              "    </tbody>\n",
              "</table>"
            ]
          },
          "metadata": {},
          "execution_count": 61
        }
      ]
    },
    {
      "cell_type": "code",
      "source": [
        "# How many buildings in the id_maps table are in Gorkha?\n",
        "\n",
        "%%sql\n",
        "select count(distinct (building_id)) as unique_buildings_gorkha from id_maps\n",
        "where district_id = 36"
      ],
      "metadata": {
        "id": "e3Hc5q-Tahyg",
        "colab": {
          "base_uri": "https://localhost:8080/",
          "height": 113
        },
        "outputId": "0d6f03e9-3e54-4006-a5d3-56c3fcee43f7"
      },
      "execution_count": null,
      "outputs": [
        {
          "output_type": "stream",
          "name": "stdout",
          "text": [
            "   sqlite:////nepal.db\n",
            " * sqlite:///nepal.db\n",
            "Done.\n"
          ]
        },
        {
          "output_type": "execute_result",
          "data": {
            "text/plain": [
              "[(63333,)]"
            ],
            "text/html": [
              "<table>\n",
              "    <thead>\n",
              "        <tr>\n",
              "            <th>unique_buildings_gorkha</th>\n",
              "        </tr>\n",
              "    </thead>\n",
              "    <tbody>\n",
              "        <tr>\n",
              "            <td>63333</td>\n",
              "        </tr>\n",
              "    </tbody>\n",
              "</table>"
            ]
          },
          "metadata": {},
          "execution_count": 62
        }
      ]
    },
    {
      "cell_type": "code",
      "source": [
        "# Select all the columns from the building_structure table\n",
        "\n",
        "%%sql\n",
        "select * from building_structure limit 5"
      ],
      "metadata": {
        "id": "UEya7b8OaofQ",
        "colab": {
          "base_uri": "https://localhost:8080/",
          "height": 374
        },
        "outputId": "a81c4536-cb82-4d57-f6d1-473604ca991a"
      },
      "execution_count": null,
      "outputs": [
        {
          "output_type": "stream",
          "name": "stdout",
          "text": [
            "   sqlite:////nepal.db\n",
            " * sqlite:///nepal.db\n",
            "Done.\n"
          ]
        },
        {
          "output_type": "execute_result",
          "data": {
            "text/plain": [
              "[(120101000011, 1, 1, 9, 288, 9, 9, 'Flat', 'Other', 'Bamboo/Timber-Light roof', 'Mud', 'Not applicable', 'Not attached', 'Rectangular', 'Damaged-Used in risk', 'Major repair', 'mud mortar ,stone'),\n",
              " (120101000021, 1, 1, 15, 364, 9, 9, 'Flat', 'Other', 'Bamboo/Timber-Light roof', 'Mud', 'Not applicable', 'Not attached', 'Rectangular', 'Damaged-Repaired and used', 'Reconstruction', 'bamboo'),\n",
              " (120101000031, 1, 1, 20, 384, 9, 9, 'Flat', 'Other', 'Bamboo/Timber-Light roof', 'Mud', 'Not applicable', 'Not attached', 'Rectangular', 'Damaged-Repaired and used', 'Minor repair', 'mud mortar ,stone'),\n",
              " (120101000041, 1, 1, 20, 312, 9, 9, 'Flat', 'Other', 'Bamboo/Timber-Light roof', 'Mud', 'Not applicable', 'Not attached', 'Rectangular', 'Damaged-Repaired and used', 'Minor repair', 'bamboo'),\n",
              " (120101000051, 1, 1, 30, 308, 9, 9, 'Flat', 'Other', 'Bamboo/Timber-Light roof', 'Mud', 'Not applicable', 'Not attached', 'Rectangular', 'Damaged-Repaired and used', 'Minor repair', 'mud mortar ,stone')]"
            ],
            "text/html": [
              "<table>\n",
              "    <thead>\n",
              "        <tr>\n",
              "            <th>building_id</th>\n",
              "            <th>count_floors_pre_eq</th>\n",
              "            <th>count_floors_post_eq</th>\n",
              "            <th>age_building</th>\n",
              "            <th>plinth_area_sq_ft</th>\n",
              "            <th>height_ft_pre_eq</th>\n",
              "            <th>height_ft_post_eq</th>\n",
              "            <th>land_surface_condition</th>\n",
              "            <th>foundation_type</th>\n",
              "            <th>roof_type</th>\n",
              "            <th>ground_floor_type</th>\n",
              "            <th>other_floor_type</th>\n",
              "            <th>position</th>\n",
              "            <th>plan_configuration</th>\n",
              "            <th>condition_post_eq</th>\n",
              "            <th>technical_solution_proposed</th>\n",
              "            <th>superstructure</th>\n",
              "        </tr>\n",
              "    </thead>\n",
              "    <tbody>\n",
              "        <tr>\n",
              "            <td>120101000011</td>\n",
              "            <td>1</td>\n",
              "            <td>1</td>\n",
              "            <td>9</td>\n",
              "            <td>288</td>\n",
              "            <td>9</td>\n",
              "            <td>9</td>\n",
              "            <td>Flat</td>\n",
              "            <td>Other</td>\n",
              "            <td>Bamboo/Timber-Light roof</td>\n",
              "            <td>Mud</td>\n",
              "            <td>Not applicable</td>\n",
              "            <td>Not attached</td>\n",
              "            <td>Rectangular</td>\n",
              "            <td>Damaged-Used in risk</td>\n",
              "            <td>Major repair</td>\n",
              "            <td>mud mortar ,stone</td>\n",
              "        </tr>\n",
              "        <tr>\n",
              "            <td>120101000021</td>\n",
              "            <td>1</td>\n",
              "            <td>1</td>\n",
              "            <td>15</td>\n",
              "            <td>364</td>\n",
              "            <td>9</td>\n",
              "            <td>9</td>\n",
              "            <td>Flat</td>\n",
              "            <td>Other</td>\n",
              "            <td>Bamboo/Timber-Light roof</td>\n",
              "            <td>Mud</td>\n",
              "            <td>Not applicable</td>\n",
              "            <td>Not attached</td>\n",
              "            <td>Rectangular</td>\n",
              "            <td>Damaged-Repaired and used</td>\n",
              "            <td>Reconstruction</td>\n",
              "            <td>bamboo</td>\n",
              "        </tr>\n",
              "        <tr>\n",
              "            <td>120101000031</td>\n",
              "            <td>1</td>\n",
              "            <td>1</td>\n",
              "            <td>20</td>\n",
              "            <td>384</td>\n",
              "            <td>9</td>\n",
              "            <td>9</td>\n",
              "            <td>Flat</td>\n",
              "            <td>Other</td>\n",
              "            <td>Bamboo/Timber-Light roof</td>\n",
              "            <td>Mud</td>\n",
              "            <td>Not applicable</td>\n",
              "            <td>Not attached</td>\n",
              "            <td>Rectangular</td>\n",
              "            <td>Damaged-Repaired and used</td>\n",
              "            <td>Minor repair</td>\n",
              "            <td>mud mortar ,stone</td>\n",
              "        </tr>\n",
              "        <tr>\n",
              "            <td>120101000041</td>\n",
              "            <td>1</td>\n",
              "            <td>1</td>\n",
              "            <td>20</td>\n",
              "            <td>312</td>\n",
              "            <td>9</td>\n",
              "            <td>9</td>\n",
              "            <td>Flat</td>\n",
              "            <td>Other</td>\n",
              "            <td>Bamboo/Timber-Light roof</td>\n",
              "            <td>Mud</td>\n",
              "            <td>Not applicable</td>\n",
              "            <td>Not attached</td>\n",
              "            <td>Rectangular</td>\n",
              "            <td>Damaged-Repaired and used</td>\n",
              "            <td>Minor repair</td>\n",
              "            <td>bamboo</td>\n",
              "        </tr>\n",
              "        <tr>\n",
              "            <td>120101000051</td>\n",
              "            <td>1</td>\n",
              "            <td>1</td>\n",
              "            <td>30</td>\n",
              "            <td>308</td>\n",
              "            <td>9</td>\n",
              "            <td>9</td>\n",
              "            <td>Flat</td>\n",
              "            <td>Other</td>\n",
              "            <td>Bamboo/Timber-Light roof</td>\n",
              "            <td>Mud</td>\n",
              "            <td>Not applicable</td>\n",
              "            <td>Not attached</td>\n",
              "            <td>Rectangular</td>\n",
              "            <td>Damaged-Repaired and used</td>\n",
              "            <td>Minor repair</td>\n",
              "            <td>mud mortar ,stone</td>\n",
              "        </tr>\n",
              "    </tbody>\n",
              "</table>"
            ]
          },
          "metadata": {},
          "execution_count": 63
        }
      ]
    },
    {
      "cell_type": "code",
      "source": [
        "# How many building are there in the building_structure table?\n",
        "\n",
        "%%sql\n",
        "select count(*) from building_structure"
      ],
      "metadata": {
        "id": "cY4SqdswaqjY",
        "colab": {
          "base_uri": "https://localhost:8080/",
          "height": 113
        },
        "outputId": "dbe5aa42-bc4c-4a2d-e34c-8c1bdb3018ed"
      },
      "execution_count": null,
      "outputs": [
        {
          "output_type": "stream",
          "name": "stdout",
          "text": [
            "   sqlite:////nepal.db\n",
            " * sqlite:///nepal.db\n",
            "Done.\n"
          ]
        },
        {
          "output_type": "execute_result",
          "data": {
            "text/plain": [
              "[(276084,)]"
            ],
            "text/html": [
              "<table>\n",
              "    <thead>\n",
              "        <tr>\n",
              "            <th>count(*)</th>\n",
              "        </tr>\n",
              "    </thead>\n",
              "    <tbody>\n",
              "        <tr>\n",
              "            <td>276084</td>\n",
              "        </tr>\n",
              "    </tbody>\n",
              "</table>"
            ]
          },
          "metadata": {},
          "execution_count": 64
        }
      ]
    },
    {
      "cell_type": "code",
      "source": [
        "\"\"\"\n",
        "There are over 200,000 buildings in the `building_structure` table, but how can\n",
        "we retrieve only buildings that are in Gorkha?\n",
        "\"\"\"\n",
        "\n",
        "%%sql\n",
        "select *\n",
        "from id_maps as i\n",
        "join building_structure as s\n",
        "on i.building_id = s.building_id\n",
        "where district_id = 36\n",
        "limit 5"
      ],
      "metadata": {
        "id": "I3-BHClYawor",
        "colab": {
          "base_uri": "https://localhost:8080/",
          "height": 305
        },
        "outputId": "19bd2edc-12e8-47b3-c428-e073bb8e10aa"
      },
      "execution_count": null,
      "outputs": [
        {
          "output_type": "stream",
          "name": "stdout",
          "text": [
            "   sqlite:////nepal.db\n",
            " * sqlite:///nepal.db\n",
            "Done.\n"
          ]
        },
        {
          "output_type": "execute_result",
          "data": {
            "text/plain": [
              "[(360106001171, 36, 3609, 31350400116101, 360106001171, 2, 0, 4, 280, 18, 0, 'Flat', 'Mud mortar-Stone/Brick', 'Bamboo/Timber-Light roof', 'Mud', 'TImber/Bamboo-Mud', 'Not attached', 'Rectangular', 'Damaged-Rubble unclear', 'Reconstruction', 'mud mortar ,stone'),\n",
              " (360106001181, 36, 3609, 31350500019101, 360106001181, 1, 0, 15, 120, 18, 0, 'Flat', 'Mud mortar-Stone/Brick', 'Bamboo/Timber-Light roof', 'Mud', 'Not applicable', 'Attached-1 side', 'Rectangular', 'Damaged-Rubble unclear', 'Reconstruction', 'mud mortar ,stone'),\n",
              " (360107000161, 36, 3609, 31350500043101, 360107000161, 2, 0, 25, 300, 14, 0, 'Flat', 'Mud mortar-Stone/Brick', 'Bamboo/Timber-Light roof', 'Mud', 'TImber/Bamboo-Mud', 'Not attached', 'Rectangular', 'Damaged-Rubble unclear', 'Reconstruction', 'mud mortar ,stone'),\n",
              " (360107000381, 36, 3609, 31350500064101, 360107000381, 2, 0, 22, 155, 16, 0, 'Flat', 'Mud mortar-Stone/Brick', 'Bamboo/Timber-Light roof', 'Mud', 'TImber/Bamboo-Mud', 'Not attached', 'Rectangular', 'Damaged-Rubble clear', 'Reconstruction', 'mud mortar ,stone'),\n",
              " (360202000691, 36, 3601, 31350800030101, 360202000691, 2, 0, 20, 240, 14, 0, 'Flat', 'Mud mortar-Stone/Brick', 'Bamboo/Timber-Heavy roof', 'Brick/Stone', 'TImber/Bamboo-Mud', 'Attached-1 side', 'Rectangular', 'Damaged-Rubble unclear', 'Reconstruction', 'mud mortar ,stone')]"
            ],
            "text/html": [
              "<table>\n",
              "    <thead>\n",
              "        <tr>\n",
              "            <th>building_id</th>\n",
              "            <th>district_id</th>\n",
              "            <th>vdcmun_id</th>\n",
              "            <th>household_id</th>\n",
              "            <th>building_id_1</th>\n",
              "            <th>count_floors_pre_eq</th>\n",
              "            <th>count_floors_post_eq</th>\n",
              "            <th>age_building</th>\n",
              "            <th>plinth_area_sq_ft</th>\n",
              "            <th>height_ft_pre_eq</th>\n",
              "            <th>height_ft_post_eq</th>\n",
              "            <th>land_surface_condition</th>\n",
              "            <th>foundation_type</th>\n",
              "            <th>roof_type</th>\n",
              "            <th>ground_floor_type</th>\n",
              "            <th>other_floor_type</th>\n",
              "            <th>position</th>\n",
              "            <th>plan_configuration</th>\n",
              "            <th>condition_post_eq</th>\n",
              "            <th>technical_solution_proposed</th>\n",
              "            <th>superstructure</th>\n",
              "        </tr>\n",
              "    </thead>\n",
              "    <tbody>\n",
              "        <tr>\n",
              "            <td>360106001171</td>\n",
              "            <td>36</td>\n",
              "            <td>3609</td>\n",
              "            <td>31350400116101</td>\n",
              "            <td>360106001171</td>\n",
              "            <td>2</td>\n",
              "            <td>0</td>\n",
              "            <td>4</td>\n",
              "            <td>280</td>\n",
              "            <td>18</td>\n",
              "            <td>0</td>\n",
              "            <td>Flat</td>\n",
              "            <td>Mud mortar-Stone/Brick</td>\n",
              "            <td>Bamboo/Timber-Light roof</td>\n",
              "            <td>Mud</td>\n",
              "            <td>TImber/Bamboo-Mud</td>\n",
              "            <td>Not attached</td>\n",
              "            <td>Rectangular</td>\n",
              "            <td>Damaged-Rubble unclear</td>\n",
              "            <td>Reconstruction</td>\n",
              "            <td>mud mortar ,stone</td>\n",
              "        </tr>\n",
              "        <tr>\n",
              "            <td>360106001181</td>\n",
              "            <td>36</td>\n",
              "            <td>3609</td>\n",
              "            <td>31350500019101</td>\n",
              "            <td>360106001181</td>\n",
              "            <td>1</td>\n",
              "            <td>0</td>\n",
              "            <td>15</td>\n",
              "            <td>120</td>\n",
              "            <td>18</td>\n",
              "            <td>0</td>\n",
              "            <td>Flat</td>\n",
              "            <td>Mud mortar-Stone/Brick</td>\n",
              "            <td>Bamboo/Timber-Light roof</td>\n",
              "            <td>Mud</td>\n",
              "            <td>Not applicable</td>\n",
              "            <td>Attached-1 side</td>\n",
              "            <td>Rectangular</td>\n",
              "            <td>Damaged-Rubble unclear</td>\n",
              "            <td>Reconstruction</td>\n",
              "            <td>mud mortar ,stone</td>\n",
              "        </tr>\n",
              "        <tr>\n",
              "            <td>360107000161</td>\n",
              "            <td>36</td>\n",
              "            <td>3609</td>\n",
              "            <td>31350500043101</td>\n",
              "            <td>360107000161</td>\n",
              "            <td>2</td>\n",
              "            <td>0</td>\n",
              "            <td>25</td>\n",
              "            <td>300</td>\n",
              "            <td>14</td>\n",
              "            <td>0</td>\n",
              "            <td>Flat</td>\n",
              "            <td>Mud mortar-Stone/Brick</td>\n",
              "            <td>Bamboo/Timber-Light roof</td>\n",
              "            <td>Mud</td>\n",
              "            <td>TImber/Bamboo-Mud</td>\n",
              "            <td>Not attached</td>\n",
              "            <td>Rectangular</td>\n",
              "            <td>Damaged-Rubble unclear</td>\n",
              "            <td>Reconstruction</td>\n",
              "            <td>mud mortar ,stone</td>\n",
              "        </tr>\n",
              "        <tr>\n",
              "            <td>360107000381</td>\n",
              "            <td>36</td>\n",
              "            <td>3609</td>\n",
              "            <td>31350500064101</td>\n",
              "            <td>360107000381</td>\n",
              "            <td>2</td>\n",
              "            <td>0</td>\n",
              "            <td>22</td>\n",
              "            <td>155</td>\n",
              "            <td>16</td>\n",
              "            <td>0</td>\n",
              "            <td>Flat</td>\n",
              "            <td>Mud mortar-Stone/Brick</td>\n",
              "            <td>Bamboo/Timber-Light roof</td>\n",
              "            <td>Mud</td>\n",
              "            <td>TImber/Bamboo-Mud</td>\n",
              "            <td>Not attached</td>\n",
              "            <td>Rectangular</td>\n",
              "            <td>Damaged-Rubble clear</td>\n",
              "            <td>Reconstruction</td>\n",
              "            <td>mud mortar ,stone</td>\n",
              "        </tr>\n",
              "        <tr>\n",
              "            <td>360202000691</td>\n",
              "            <td>36</td>\n",
              "            <td>3601</td>\n",
              "            <td>31350800030101</td>\n",
              "            <td>360202000691</td>\n",
              "            <td>2</td>\n",
              "            <td>0</td>\n",
              "            <td>20</td>\n",
              "            <td>240</td>\n",
              "            <td>14</td>\n",
              "            <td>0</td>\n",
              "            <td>Flat</td>\n",
              "            <td>Mud mortar-Stone/Brick</td>\n",
              "            <td>Bamboo/Timber-Heavy roof</td>\n",
              "            <td>Brick/Stone</td>\n",
              "            <td>TImber/Bamboo-Mud</td>\n",
              "            <td>Attached-1 side</td>\n",
              "            <td>Rectangular</td>\n",
              "            <td>Damaged-Rubble unclear</td>\n",
              "            <td>Reconstruction</td>\n",
              "            <td>mud mortar ,stone</td>\n",
              "        </tr>\n",
              "    </tbody>\n",
              "</table>"
            ]
          },
          "metadata": {},
          "execution_count": 65
        }
      ]
    },
    {
      "cell_type": "code",
      "source": [
        "# Use the distinct command to create a column with all unique building IDs in the `id_maps` table\n",
        "\n",
        "%%sql\n",
        "select distinct (i.building_id), s.*\n",
        "from id_maps as i\n",
        "join building_structure as s\n",
        "on i.building_id = s.building_id\n",
        "where district_id = 36\n",
        "limit 5"
      ],
      "metadata": {
        "id": "m33vyqlBax7x",
        "colab": {
          "base_uri": "https://localhost:8080/",
          "height": 305
        },
        "outputId": "f51d2330-f9fa-4a4f-add7-ea39cead4b00"
      },
      "execution_count": null,
      "outputs": [
        {
          "output_type": "stream",
          "name": "stdout",
          "text": [
            "   sqlite:////nepal.db\n",
            " * sqlite:///nepal.db\n",
            "Done.\n"
          ]
        },
        {
          "output_type": "execute_result",
          "data": {
            "text/plain": [
              "[(360106001171, 360106001171, 2, 0, 4, 280, 18, 0, 'Flat', 'Mud mortar-Stone/Brick', 'Bamboo/Timber-Light roof', 'Mud', 'TImber/Bamboo-Mud', 'Not attached', 'Rectangular', 'Damaged-Rubble unclear', 'Reconstruction', 'mud mortar ,stone'),\n",
              " (360106001181, 360106001181, 1, 0, 15, 120, 18, 0, 'Flat', 'Mud mortar-Stone/Brick', 'Bamboo/Timber-Light roof', 'Mud', 'Not applicable', 'Attached-1 side', 'Rectangular', 'Damaged-Rubble unclear', 'Reconstruction', 'mud mortar ,stone'),\n",
              " (360107000161, 360107000161, 2, 0, 25, 300, 14, 0, 'Flat', 'Mud mortar-Stone/Brick', 'Bamboo/Timber-Light roof', 'Mud', 'TImber/Bamboo-Mud', 'Not attached', 'Rectangular', 'Damaged-Rubble unclear', 'Reconstruction', 'mud mortar ,stone'),\n",
              " (360107000381, 360107000381, 2, 0, 22, 155, 16, 0, 'Flat', 'Mud mortar-Stone/Brick', 'Bamboo/Timber-Light roof', 'Mud', 'TImber/Bamboo-Mud', 'Not attached', 'Rectangular', 'Damaged-Rubble clear', 'Reconstruction', 'mud mortar ,stone'),\n",
              " (360202000691, 360202000691, 2, 0, 20, 240, 14, 0, 'Flat', 'Mud mortar-Stone/Brick', 'Bamboo/Timber-Heavy roof', 'Brick/Stone', 'TImber/Bamboo-Mud', 'Attached-1 side', 'Rectangular', 'Damaged-Rubble unclear', 'Reconstruction', 'mud mortar ,stone')]"
            ],
            "text/html": [
              "<table>\n",
              "    <thead>\n",
              "        <tr>\n",
              "            <th>building_id</th>\n",
              "            <th>building_id_1</th>\n",
              "            <th>count_floors_pre_eq</th>\n",
              "            <th>count_floors_post_eq</th>\n",
              "            <th>age_building</th>\n",
              "            <th>plinth_area_sq_ft</th>\n",
              "            <th>height_ft_pre_eq</th>\n",
              "            <th>height_ft_post_eq</th>\n",
              "            <th>land_surface_condition</th>\n",
              "            <th>foundation_type</th>\n",
              "            <th>roof_type</th>\n",
              "            <th>ground_floor_type</th>\n",
              "            <th>other_floor_type</th>\n",
              "            <th>position</th>\n",
              "            <th>plan_configuration</th>\n",
              "            <th>condition_post_eq</th>\n",
              "            <th>technical_solution_proposed</th>\n",
              "            <th>superstructure</th>\n",
              "        </tr>\n",
              "    </thead>\n",
              "    <tbody>\n",
              "        <tr>\n",
              "            <td>360106001171</td>\n",
              "            <td>360106001171</td>\n",
              "            <td>2</td>\n",
              "            <td>0</td>\n",
              "            <td>4</td>\n",
              "            <td>280</td>\n",
              "            <td>18</td>\n",
              "            <td>0</td>\n",
              "            <td>Flat</td>\n",
              "            <td>Mud mortar-Stone/Brick</td>\n",
              "            <td>Bamboo/Timber-Light roof</td>\n",
              "            <td>Mud</td>\n",
              "            <td>TImber/Bamboo-Mud</td>\n",
              "            <td>Not attached</td>\n",
              "            <td>Rectangular</td>\n",
              "            <td>Damaged-Rubble unclear</td>\n",
              "            <td>Reconstruction</td>\n",
              "            <td>mud mortar ,stone</td>\n",
              "        </tr>\n",
              "        <tr>\n",
              "            <td>360106001181</td>\n",
              "            <td>360106001181</td>\n",
              "            <td>1</td>\n",
              "            <td>0</td>\n",
              "            <td>15</td>\n",
              "            <td>120</td>\n",
              "            <td>18</td>\n",
              "            <td>0</td>\n",
              "            <td>Flat</td>\n",
              "            <td>Mud mortar-Stone/Brick</td>\n",
              "            <td>Bamboo/Timber-Light roof</td>\n",
              "            <td>Mud</td>\n",
              "            <td>Not applicable</td>\n",
              "            <td>Attached-1 side</td>\n",
              "            <td>Rectangular</td>\n",
              "            <td>Damaged-Rubble unclear</td>\n",
              "            <td>Reconstruction</td>\n",
              "            <td>mud mortar ,stone</td>\n",
              "        </tr>\n",
              "        <tr>\n",
              "            <td>360107000161</td>\n",
              "            <td>360107000161</td>\n",
              "            <td>2</td>\n",
              "            <td>0</td>\n",
              "            <td>25</td>\n",
              "            <td>300</td>\n",
              "            <td>14</td>\n",
              "            <td>0</td>\n",
              "            <td>Flat</td>\n",
              "            <td>Mud mortar-Stone/Brick</td>\n",
              "            <td>Bamboo/Timber-Light roof</td>\n",
              "            <td>Mud</td>\n",
              "            <td>TImber/Bamboo-Mud</td>\n",
              "            <td>Not attached</td>\n",
              "            <td>Rectangular</td>\n",
              "            <td>Damaged-Rubble unclear</td>\n",
              "            <td>Reconstruction</td>\n",
              "            <td>mud mortar ,stone</td>\n",
              "        </tr>\n",
              "        <tr>\n",
              "            <td>360107000381</td>\n",
              "            <td>360107000381</td>\n",
              "            <td>2</td>\n",
              "            <td>0</td>\n",
              "            <td>22</td>\n",
              "            <td>155</td>\n",
              "            <td>16</td>\n",
              "            <td>0</td>\n",
              "            <td>Flat</td>\n",
              "            <td>Mud mortar-Stone/Brick</td>\n",
              "            <td>Bamboo/Timber-Light roof</td>\n",
              "            <td>Mud</td>\n",
              "            <td>TImber/Bamboo-Mud</td>\n",
              "            <td>Not attached</td>\n",
              "            <td>Rectangular</td>\n",
              "            <td>Damaged-Rubble clear</td>\n",
              "            <td>Reconstruction</td>\n",
              "            <td>mud mortar ,stone</td>\n",
              "        </tr>\n",
              "        <tr>\n",
              "            <td>360202000691</td>\n",
              "            <td>360202000691</td>\n",
              "            <td>2</td>\n",
              "            <td>0</td>\n",
              "            <td>20</td>\n",
              "            <td>240</td>\n",
              "            <td>14</td>\n",
              "            <td>0</td>\n",
              "            <td>Flat</td>\n",
              "            <td>Mud mortar-Stone/Brick</td>\n",
              "            <td>Bamboo/Timber-Heavy roof</td>\n",
              "            <td>Brick/Stone</td>\n",
              "            <td>TImber/Bamboo-Mud</td>\n",
              "            <td>Attached-1 side</td>\n",
              "            <td>Rectangular</td>\n",
              "            <td>Damaged-Rubble unclear</td>\n",
              "            <td>Reconstruction</td>\n",
              "            <td>mud mortar ,stone</td>\n",
              "        </tr>\n",
              "    </tbody>\n",
              "</table>"
            ]
          },
          "metadata": {},
          "execution_count": 66
        }
      ]
    },
    {
      "cell_type": "code",
      "source": [
        "for row in cur.execute(\"\"\" select distinct (i.building_id), s.*\n",
        "from id_maps as i\n",
        "join building_structure as s\n",
        "on i.building_id = s.building_id\n",
        "where district_id = 36\n",
        "limit 5 \"\"\"\n",
        "):\n",
        "    print(row)"
      ],
      "metadata": {
        "colab": {
          "base_uri": "https://localhost:8080/"
        },
        "id": "i_vWn4gKx0On",
        "outputId": "f2e449a4-61d2-4e59-c635-8c6ad36612d6"
      },
      "execution_count": null,
      "outputs": [
        {
          "output_type": "stream",
          "name": "stdout",
          "text": [
            "(360106001171, 360106001171, 2, 0, 4, 280, 18, 0, 'Flat', 'Mud mortar-Stone/Brick', 'Bamboo/Timber-Light roof', 'Mud', 'TImber/Bamboo-Mud', 'Not attached', 'Rectangular', 'Damaged-Rubble unclear', 'Reconstruction', 'mud mortar ,stone')\n",
            "(360106001181, 360106001181, 1, 0, 15, 120, 18, 0, 'Flat', 'Mud mortar-Stone/Brick', 'Bamboo/Timber-Light roof', 'Mud', 'Not applicable', 'Attached-1 side', 'Rectangular', 'Damaged-Rubble unclear', 'Reconstruction', 'mud mortar ,stone')\n",
            "(360107000161, 360107000161, 2, 0, 25, 300, 14, 0, 'Flat', 'Mud mortar-Stone/Brick', 'Bamboo/Timber-Light roof', 'Mud', 'TImber/Bamboo-Mud', 'Not attached', 'Rectangular', 'Damaged-Rubble unclear', 'Reconstruction', 'mud mortar ,stone')\n",
            "(360107000381, 360107000381, 2, 0, 22, 155, 16, 0, 'Flat', 'Mud mortar-Stone/Brick', 'Bamboo/Timber-Light roof', 'Mud', 'TImber/Bamboo-Mud', 'Not attached', 'Rectangular', 'Damaged-Rubble clear', 'Reconstruction', 'mud mortar ,stone')\n",
            "(360202000691, 360202000691, 2, 0, 20, 240, 14, 0, 'Flat', 'Mud mortar-Stone/Brick', 'Bamboo/Timber-Heavy roof', 'Brick/Stone', 'TImber/Bamboo-Mud', 'Attached-1 side', 'Rectangular', 'Damaged-Rubble unclear', 'Reconstruction', 'mud mortar ,stone')\n"
          ]
        }
      ]
    },
    {
      "cell_type": "markdown",
      "source": [
        "We’ve combined the id_maps and building_structure tables to create a table with all the buildings\n",
        "in Gorkha, but the final piece of data needed for our model, the damage that each building sustained\n",
        "in the earthquake, is in the building_damage table."
      ],
      "metadata": {
        "id": "4h85TpCLzvtP"
      }
    },
    {
      "cell_type": "code",
      "source": [
        "# Include the damage_grade column to our table by adding a second JOIN for the building_damage table\n",
        "\n",
        "%%sql\n",
        "select distinct (i.building_id) as b_id, s.*, d.damage_grade\n",
        "from id_maps as i\n",
        "join building_structure as s\n",
        "on i.building_id = s.building_id\n",
        "join building_damage as d\n",
        "on i.building_id = d.building_id\n",
        "where i.district_id = 36\n",
        "limit 5"
      ],
      "metadata": {
        "id": "CZz7rtcza3aP",
        "colab": {
          "base_uri": "https://localhost:8080/",
          "height": 305
        },
        "outputId": "fbf1708b-0941-463f-d794-c8069b89eb87"
      },
      "execution_count": null,
      "outputs": [
        {
          "output_type": "stream",
          "name": "stdout",
          "text": [
            "   sqlite:////nepal.db\n",
            " * sqlite:///nepal.db\n",
            "Done.\n"
          ]
        },
        {
          "output_type": "execute_result",
          "data": {
            "text/plain": [
              "[(360106001171, 360106001171, 2, 0, 4, 280, 18, 0, 'Flat', 'Mud mortar-Stone/Brick', 'Bamboo/Timber-Light roof', 'Mud', 'TImber/Bamboo-Mud', 'Not attached', 'Rectangular', 'Damaged-Rubble unclear', 'Reconstruction', 'mud mortar ,stone', 'Grade 5'),\n",
              " (360106001181, 360106001181, 1, 0, 15, 120, 18, 0, 'Flat', 'Mud mortar-Stone/Brick', 'Bamboo/Timber-Light roof', 'Mud', 'Not applicable', 'Attached-1 side', 'Rectangular', 'Damaged-Rubble unclear', 'Reconstruction', 'mud mortar ,stone', 'Grade 5'),\n",
              " (360107000161, 360107000161, 2, 0, 25, 300, 14, 0, 'Flat', 'Mud mortar-Stone/Brick', 'Bamboo/Timber-Light roof', 'Mud', 'TImber/Bamboo-Mud', 'Not attached', 'Rectangular', 'Damaged-Rubble unclear', 'Reconstruction', 'mud mortar ,stone', 'Grade 5'),\n",
              " (360107000381, 360107000381, 2, 0, 22, 155, 16, 0, 'Flat', 'Mud mortar-Stone/Brick', 'Bamboo/Timber-Light roof', 'Mud', 'TImber/Bamboo-Mud', 'Not attached', 'Rectangular', 'Damaged-Rubble clear', 'Reconstruction', 'mud mortar ,stone', 'Grade 5'),\n",
              " (360202000691, 360202000691, 2, 0, 20, 240, 14, 0, 'Flat', 'Mud mortar-Stone/Brick', 'Bamboo/Timber-Heavy roof', 'Brick/Stone', 'TImber/Bamboo-Mud', 'Attached-1 side', 'Rectangular', 'Damaged-Rubble unclear', 'Reconstruction', 'mud mortar ,stone', 'Grade 5')]"
            ],
            "text/html": [
              "<table>\n",
              "    <thead>\n",
              "        <tr>\n",
              "            <th>b_id</th>\n",
              "            <th>building_id</th>\n",
              "            <th>count_floors_pre_eq</th>\n",
              "            <th>count_floors_post_eq</th>\n",
              "            <th>age_building</th>\n",
              "            <th>plinth_area_sq_ft</th>\n",
              "            <th>height_ft_pre_eq</th>\n",
              "            <th>height_ft_post_eq</th>\n",
              "            <th>land_surface_condition</th>\n",
              "            <th>foundation_type</th>\n",
              "            <th>roof_type</th>\n",
              "            <th>ground_floor_type</th>\n",
              "            <th>other_floor_type</th>\n",
              "            <th>position</th>\n",
              "            <th>plan_configuration</th>\n",
              "            <th>condition_post_eq</th>\n",
              "            <th>technical_solution_proposed</th>\n",
              "            <th>superstructure</th>\n",
              "            <th>damage_grade</th>\n",
              "        </tr>\n",
              "    </thead>\n",
              "    <tbody>\n",
              "        <tr>\n",
              "            <td>360106001171</td>\n",
              "            <td>360106001171</td>\n",
              "            <td>2</td>\n",
              "            <td>0</td>\n",
              "            <td>4</td>\n",
              "            <td>280</td>\n",
              "            <td>18</td>\n",
              "            <td>0</td>\n",
              "            <td>Flat</td>\n",
              "            <td>Mud mortar-Stone/Brick</td>\n",
              "            <td>Bamboo/Timber-Light roof</td>\n",
              "            <td>Mud</td>\n",
              "            <td>TImber/Bamboo-Mud</td>\n",
              "            <td>Not attached</td>\n",
              "            <td>Rectangular</td>\n",
              "            <td>Damaged-Rubble unclear</td>\n",
              "            <td>Reconstruction</td>\n",
              "            <td>mud mortar ,stone</td>\n",
              "            <td>Grade 5</td>\n",
              "        </tr>\n",
              "        <tr>\n",
              "            <td>360106001181</td>\n",
              "            <td>360106001181</td>\n",
              "            <td>1</td>\n",
              "            <td>0</td>\n",
              "            <td>15</td>\n",
              "            <td>120</td>\n",
              "            <td>18</td>\n",
              "            <td>0</td>\n",
              "            <td>Flat</td>\n",
              "            <td>Mud mortar-Stone/Brick</td>\n",
              "            <td>Bamboo/Timber-Light roof</td>\n",
              "            <td>Mud</td>\n",
              "            <td>Not applicable</td>\n",
              "            <td>Attached-1 side</td>\n",
              "            <td>Rectangular</td>\n",
              "            <td>Damaged-Rubble unclear</td>\n",
              "            <td>Reconstruction</td>\n",
              "            <td>mud mortar ,stone</td>\n",
              "            <td>Grade 5</td>\n",
              "        </tr>\n",
              "        <tr>\n",
              "            <td>360107000161</td>\n",
              "            <td>360107000161</td>\n",
              "            <td>2</td>\n",
              "            <td>0</td>\n",
              "            <td>25</td>\n",
              "            <td>300</td>\n",
              "            <td>14</td>\n",
              "            <td>0</td>\n",
              "            <td>Flat</td>\n",
              "            <td>Mud mortar-Stone/Brick</td>\n",
              "            <td>Bamboo/Timber-Light roof</td>\n",
              "            <td>Mud</td>\n",
              "            <td>TImber/Bamboo-Mud</td>\n",
              "            <td>Not attached</td>\n",
              "            <td>Rectangular</td>\n",
              "            <td>Damaged-Rubble unclear</td>\n",
              "            <td>Reconstruction</td>\n",
              "            <td>mud mortar ,stone</td>\n",
              "            <td>Grade 5</td>\n",
              "        </tr>\n",
              "        <tr>\n",
              "            <td>360107000381</td>\n",
              "            <td>360107000381</td>\n",
              "            <td>2</td>\n",
              "            <td>0</td>\n",
              "            <td>22</td>\n",
              "            <td>155</td>\n",
              "            <td>16</td>\n",
              "            <td>0</td>\n",
              "            <td>Flat</td>\n",
              "            <td>Mud mortar-Stone/Brick</td>\n",
              "            <td>Bamboo/Timber-Light roof</td>\n",
              "            <td>Mud</td>\n",
              "            <td>TImber/Bamboo-Mud</td>\n",
              "            <td>Not attached</td>\n",
              "            <td>Rectangular</td>\n",
              "            <td>Damaged-Rubble clear</td>\n",
              "            <td>Reconstruction</td>\n",
              "            <td>mud mortar ,stone</td>\n",
              "            <td>Grade 5</td>\n",
              "        </tr>\n",
              "        <tr>\n",
              "            <td>360202000691</td>\n",
              "            <td>360202000691</td>\n",
              "            <td>2</td>\n",
              "            <td>0</td>\n",
              "            <td>20</td>\n",
              "            <td>240</td>\n",
              "            <td>14</td>\n",
              "            <td>0</td>\n",
              "            <td>Flat</td>\n",
              "            <td>Mud mortar-Stone/Brick</td>\n",
              "            <td>Bamboo/Timber-Heavy roof</td>\n",
              "            <td>Brick/Stone</td>\n",
              "            <td>TImber/Bamboo-Mud</td>\n",
              "            <td>Attached-1 side</td>\n",
              "            <td>Rectangular</td>\n",
              "            <td>Damaged-Rubble unclear</td>\n",
              "            <td>Reconstruction</td>\n",
              "            <td>mud mortar ,stone</td>\n",
              "            <td>Grade 5</td>\n",
              "        </tr>\n",
              "    </tbody>\n",
              "</table>"
            ]
          },
          "metadata": {},
          "execution_count": 67
        }
      ]
    },
    {
      "cell_type": "markdown",
      "source": [
        "## Import"
      ],
      "metadata": {
        "id": "PJZfTS9n0HMk"
      }
    },
    {
      "cell_type": "code",
      "source": [
        "# Use the connect method from the sqlite3 library to connect to the database\n",
        "\n",
        "conn = sqlite3.connect('nepal.db')"
      ],
      "metadata": {
        "id": "_eA8Tf1ia4UJ"
      },
      "execution_count": null,
      "outputs": []
    },
    {
      "cell_type": "code",
      "source": [
        "# Put our last SQL query into a string and assign it to the variable query.\n",
        "\n",
        "query = \"\"\"\n",
        "    select distinct (i.building_id) as b_id, s.*, d.damage_grade\n",
        "    from id_maps as i\n",
        "    join building_structure as s\n",
        "    on i.building_id = s.building_id\n",
        "    join building_damage as d\n",
        "    on i.building_id = d.building_id\n",
        "    where i.district_id = 36\n",
        "\n",
        "\"\"\"\n",
        "print(query)"
      ],
      "metadata": {
        "id": "EQ6AeO3Ua8qQ",
        "colab": {
          "base_uri": "https://localhost:8080/"
        },
        "outputId": "c7bd5c14-0675-4e53-bbc0-c1ace2e76317"
      },
      "execution_count": null,
      "outputs": [
        {
          "output_type": "stream",
          "name": "stdout",
          "text": [
            "\n",
            "select distinct (i.building_id) as b_id, s.*, d.damage_grade\n",
            "from id_maps as i\n",
            "join building_structure as s\n",
            "on i.building_id = s.building_id\n",
            "join building_damage as d\n",
            "on i.building_id = d.building_id\n",
            "where i.district_id = 36\n",
            "\n"
          ]
        }
      ]
    },
    {
      "cell_type": "code",
      "source": [
        "# Use the read_sql from the pandas library to create a DataFrame from our query\n",
        "\n",
        "df = pd.read_sql(query, conn, index_col= \"b_id\")\n",
        "df.head()"
      ],
      "metadata": {
        "id": "ZchdtxB3a9qG",
        "colab": {
          "base_uri": "https://localhost:8080/",
          "height": 344
        },
        "outputId": "fc759f20-9e1f-4b48-c4f5-979b15e70580"
      },
      "execution_count": null,
      "outputs": [
        {
          "output_type": "execute_result",
          "data": {
            "text/plain": [
              "               building_id  count_floors_pre_eq  count_floors_post_eq  \\\n",
              "b_id                                                                    \n",
              "360106001171  360106001171                    2                     0   \n",
              "360106001181  360106001181                    1                     0   \n",
              "360107000161  360107000161                    2                     0   \n",
              "360107000381  360107000381                    2                     0   \n",
              "360202000691  360202000691                    2                     0   \n",
              "\n",
              "              age_building  plinth_area_sq_ft  height_ft_pre_eq  \\\n",
              "b_id                                                              \n",
              "360106001171             4                280                18   \n",
              "360106001181            15                120                18   \n",
              "360107000161            25                300                14   \n",
              "360107000381            22                155                16   \n",
              "360202000691            20                240                14   \n",
              "\n",
              "              height_ft_post_eq land_surface_condition  \\\n",
              "b_id                                                     \n",
              "360106001171                  0                   Flat   \n",
              "360106001181                  0                   Flat   \n",
              "360107000161                  0                   Flat   \n",
              "360107000381                  0                   Flat   \n",
              "360202000691                  0                   Flat   \n",
              "\n",
              "                     foundation_type                 roof_type  \\\n",
              "b_id                                                             \n",
              "360106001171  Mud mortar-Stone/Brick  Bamboo/Timber-Light roof   \n",
              "360106001181  Mud mortar-Stone/Brick  Bamboo/Timber-Light roof   \n",
              "360107000161  Mud mortar-Stone/Brick  Bamboo/Timber-Light roof   \n",
              "360107000381  Mud mortar-Stone/Brick  Bamboo/Timber-Light roof   \n",
              "360202000691  Mud mortar-Stone/Brick  Bamboo/Timber-Heavy roof   \n",
              "\n",
              "             ground_floor_type   other_floor_type         position  \\\n",
              "b_id                                                                 \n",
              "360106001171               Mud  TImber/Bamboo-Mud     Not attached   \n",
              "360106001181               Mud     Not applicable  Attached-1 side   \n",
              "360107000161               Mud  TImber/Bamboo-Mud     Not attached   \n",
              "360107000381               Mud  TImber/Bamboo-Mud     Not attached   \n",
              "360202000691       Brick/Stone  TImber/Bamboo-Mud  Attached-1 side   \n",
              "\n",
              "             plan_configuration       condition_post_eq  \\\n",
              "b_id                                                      \n",
              "360106001171        Rectangular  Damaged-Rubble unclear   \n",
              "360106001181        Rectangular  Damaged-Rubble unclear   \n",
              "360107000161        Rectangular  Damaged-Rubble unclear   \n",
              "360107000381        Rectangular    Damaged-Rubble clear   \n",
              "360202000691        Rectangular  Damaged-Rubble unclear   \n",
              "\n",
              "             technical_solution_proposed     superstructure damage_grade  \n",
              "b_id                                                                      \n",
              "360106001171              Reconstruction  mud mortar ,stone      Grade 5  \n",
              "360106001181              Reconstruction  mud mortar ,stone      Grade 5  \n",
              "360107000161              Reconstruction  mud mortar ,stone      Grade 5  \n",
              "360107000381              Reconstruction  mud mortar ,stone      Grade 5  \n",
              "360202000691              Reconstruction  mud mortar ,stone      Grade 5  "
            ],
            "text/html": [
              "\n",
              "  <div id=\"df-66f297cf-03e2-4939-8bb1-cd4ab52a05cf\" class=\"colab-df-container\">\n",
              "    <div>\n",
              "<style scoped>\n",
              "    .dataframe tbody tr th:only-of-type {\n",
              "        vertical-align: middle;\n",
              "    }\n",
              "\n",
              "    .dataframe tbody tr th {\n",
              "        vertical-align: top;\n",
              "    }\n",
              "\n",
              "    .dataframe thead th {\n",
              "        text-align: right;\n",
              "    }\n",
              "</style>\n",
              "<table border=\"1\" class=\"dataframe\">\n",
              "  <thead>\n",
              "    <tr style=\"text-align: right;\">\n",
              "      <th></th>\n",
              "      <th>building_id</th>\n",
              "      <th>count_floors_pre_eq</th>\n",
              "      <th>count_floors_post_eq</th>\n",
              "      <th>age_building</th>\n",
              "      <th>plinth_area_sq_ft</th>\n",
              "      <th>height_ft_pre_eq</th>\n",
              "      <th>height_ft_post_eq</th>\n",
              "      <th>land_surface_condition</th>\n",
              "      <th>foundation_type</th>\n",
              "      <th>roof_type</th>\n",
              "      <th>ground_floor_type</th>\n",
              "      <th>other_floor_type</th>\n",
              "      <th>position</th>\n",
              "      <th>plan_configuration</th>\n",
              "      <th>condition_post_eq</th>\n",
              "      <th>technical_solution_proposed</th>\n",
              "      <th>superstructure</th>\n",
              "      <th>damage_grade</th>\n",
              "    </tr>\n",
              "    <tr>\n",
              "      <th>b_id</th>\n",
              "      <th></th>\n",
              "      <th></th>\n",
              "      <th></th>\n",
              "      <th></th>\n",
              "      <th></th>\n",
              "      <th></th>\n",
              "      <th></th>\n",
              "      <th></th>\n",
              "      <th></th>\n",
              "      <th></th>\n",
              "      <th></th>\n",
              "      <th></th>\n",
              "      <th></th>\n",
              "      <th></th>\n",
              "      <th></th>\n",
              "      <th></th>\n",
              "      <th></th>\n",
              "      <th></th>\n",
              "    </tr>\n",
              "  </thead>\n",
              "  <tbody>\n",
              "    <tr>\n",
              "      <th>360106001171</th>\n",
              "      <td>360106001171</td>\n",
              "      <td>2</td>\n",
              "      <td>0</td>\n",
              "      <td>4</td>\n",
              "      <td>280</td>\n",
              "      <td>18</td>\n",
              "      <td>0</td>\n",
              "      <td>Flat</td>\n",
              "      <td>Mud mortar-Stone/Brick</td>\n",
              "      <td>Bamboo/Timber-Light roof</td>\n",
              "      <td>Mud</td>\n",
              "      <td>TImber/Bamboo-Mud</td>\n",
              "      <td>Not attached</td>\n",
              "      <td>Rectangular</td>\n",
              "      <td>Damaged-Rubble unclear</td>\n",
              "      <td>Reconstruction</td>\n",
              "      <td>mud mortar ,stone</td>\n",
              "      <td>Grade 5</td>\n",
              "    </tr>\n",
              "    <tr>\n",
              "      <th>360106001181</th>\n",
              "      <td>360106001181</td>\n",
              "      <td>1</td>\n",
              "      <td>0</td>\n",
              "      <td>15</td>\n",
              "      <td>120</td>\n",
              "      <td>18</td>\n",
              "      <td>0</td>\n",
              "      <td>Flat</td>\n",
              "      <td>Mud mortar-Stone/Brick</td>\n",
              "      <td>Bamboo/Timber-Light roof</td>\n",
              "      <td>Mud</td>\n",
              "      <td>Not applicable</td>\n",
              "      <td>Attached-1 side</td>\n",
              "      <td>Rectangular</td>\n",
              "      <td>Damaged-Rubble unclear</td>\n",
              "      <td>Reconstruction</td>\n",
              "      <td>mud mortar ,stone</td>\n",
              "      <td>Grade 5</td>\n",
              "    </tr>\n",
              "    <tr>\n",
              "      <th>360107000161</th>\n",
              "      <td>360107000161</td>\n",
              "      <td>2</td>\n",
              "      <td>0</td>\n",
              "      <td>25</td>\n",
              "      <td>300</td>\n",
              "      <td>14</td>\n",
              "      <td>0</td>\n",
              "      <td>Flat</td>\n",
              "      <td>Mud mortar-Stone/Brick</td>\n",
              "      <td>Bamboo/Timber-Light roof</td>\n",
              "      <td>Mud</td>\n",
              "      <td>TImber/Bamboo-Mud</td>\n",
              "      <td>Not attached</td>\n",
              "      <td>Rectangular</td>\n",
              "      <td>Damaged-Rubble unclear</td>\n",
              "      <td>Reconstruction</td>\n",
              "      <td>mud mortar ,stone</td>\n",
              "      <td>Grade 5</td>\n",
              "    </tr>\n",
              "    <tr>\n",
              "      <th>360107000381</th>\n",
              "      <td>360107000381</td>\n",
              "      <td>2</td>\n",
              "      <td>0</td>\n",
              "      <td>22</td>\n",
              "      <td>155</td>\n",
              "      <td>16</td>\n",
              "      <td>0</td>\n",
              "      <td>Flat</td>\n",
              "      <td>Mud mortar-Stone/Brick</td>\n",
              "      <td>Bamboo/Timber-Light roof</td>\n",
              "      <td>Mud</td>\n",
              "      <td>TImber/Bamboo-Mud</td>\n",
              "      <td>Not attached</td>\n",
              "      <td>Rectangular</td>\n",
              "      <td>Damaged-Rubble clear</td>\n",
              "      <td>Reconstruction</td>\n",
              "      <td>mud mortar ,stone</td>\n",
              "      <td>Grade 5</td>\n",
              "    </tr>\n",
              "    <tr>\n",
              "      <th>360202000691</th>\n",
              "      <td>360202000691</td>\n",
              "      <td>2</td>\n",
              "      <td>0</td>\n",
              "      <td>20</td>\n",
              "      <td>240</td>\n",
              "      <td>14</td>\n",
              "      <td>0</td>\n",
              "      <td>Flat</td>\n",
              "      <td>Mud mortar-Stone/Brick</td>\n",
              "      <td>Bamboo/Timber-Heavy roof</td>\n",
              "      <td>Brick/Stone</td>\n",
              "      <td>TImber/Bamboo-Mud</td>\n",
              "      <td>Attached-1 side</td>\n",
              "      <td>Rectangular</td>\n",
              "      <td>Damaged-Rubble unclear</td>\n",
              "      <td>Reconstruction</td>\n",
              "      <td>mud mortar ,stone</td>\n",
              "      <td>Grade 5</td>\n",
              "    </tr>\n",
              "  </tbody>\n",
              "</table>\n",
              "</div>\n",
              "    <div class=\"colab-df-buttons\">\n",
              "\n",
              "  <div class=\"colab-df-container\">\n",
              "    <button class=\"colab-df-convert\" onclick=\"convertToInteractive('df-66f297cf-03e2-4939-8bb1-cd4ab52a05cf')\"\n",
              "            title=\"Convert this dataframe to an interactive table.\"\n",
              "            style=\"display:none;\">\n",
              "\n",
              "  <svg xmlns=\"http://www.w3.org/2000/svg\" height=\"24px\" viewBox=\"0 -960 960 960\">\n",
              "    <path d=\"M120-120v-720h720v720H120Zm60-500h600v-160H180v160Zm220 220h160v-160H400v160Zm0 220h160v-160H400v160ZM180-400h160v-160H180v160Zm440 0h160v-160H620v160ZM180-180h160v-160H180v160Zm440 0h160v-160H620v160Z\"/>\n",
              "  </svg>\n",
              "    </button>\n",
              "\n",
              "  <style>\n",
              "    .colab-df-container {\n",
              "      display:flex;\n",
              "      gap: 12px;\n",
              "    }\n",
              "\n",
              "    .colab-df-convert {\n",
              "      background-color: #E8F0FE;\n",
              "      border: none;\n",
              "      border-radius: 50%;\n",
              "      cursor: pointer;\n",
              "      display: none;\n",
              "      fill: #1967D2;\n",
              "      height: 32px;\n",
              "      padding: 0 0 0 0;\n",
              "      width: 32px;\n",
              "    }\n",
              "\n",
              "    .colab-df-convert:hover {\n",
              "      background-color: #E2EBFA;\n",
              "      box-shadow: 0px 1px 2px rgba(60, 64, 67, 0.3), 0px 1px 3px 1px rgba(60, 64, 67, 0.15);\n",
              "      fill: #174EA6;\n",
              "    }\n",
              "\n",
              "    .colab-df-buttons div {\n",
              "      margin-bottom: 4px;\n",
              "    }\n",
              "\n",
              "    [theme=dark] .colab-df-convert {\n",
              "      background-color: #3B4455;\n",
              "      fill: #D2E3FC;\n",
              "    }\n",
              "\n",
              "    [theme=dark] .colab-df-convert:hover {\n",
              "      background-color: #434B5C;\n",
              "      box-shadow: 0px 1px 3px 1px rgba(0, 0, 0, 0.15);\n",
              "      filter: drop-shadow(0px 1px 2px rgba(0, 0, 0, 0.3));\n",
              "      fill: #FFFFFF;\n",
              "    }\n",
              "  </style>\n",
              "\n",
              "    <script>\n",
              "      const buttonEl =\n",
              "        document.querySelector('#df-66f297cf-03e2-4939-8bb1-cd4ab52a05cf button.colab-df-convert');\n",
              "      buttonEl.style.display =\n",
              "        google.colab.kernel.accessAllowed ? 'block' : 'none';\n",
              "\n",
              "      async function convertToInteractive(key) {\n",
              "        const element = document.querySelector('#df-66f297cf-03e2-4939-8bb1-cd4ab52a05cf');\n",
              "        const dataTable =\n",
              "          await google.colab.kernel.invokeFunction('convertToInteractive',\n",
              "                                                    [key], {});\n",
              "        if (!dataTable) return;\n",
              "\n",
              "        const docLinkHtml = 'Like what you see? Visit the ' +\n",
              "          '<a target=\"_blank\" href=https://colab.research.google.com/notebooks/data_table.ipynb>data table notebook</a>'\n",
              "          + ' to learn more about interactive tables.';\n",
              "        element.innerHTML = '';\n",
              "        dataTable['output_type'] = 'display_data';\n",
              "        await google.colab.output.renderOutput(dataTable, element);\n",
              "        const docLink = document.createElement('div');\n",
              "        docLink.innerHTML = docLinkHtml;\n",
              "        element.appendChild(docLink);\n",
              "      }\n",
              "    </script>\n",
              "  </div>\n",
              "\n",
              "\n",
              "<div id=\"df-6f6460b0-8b5e-4ac5-8ea9-1ee9d271fa31\">\n",
              "  <button class=\"colab-df-quickchart\" onclick=\"quickchart('df-6f6460b0-8b5e-4ac5-8ea9-1ee9d271fa31')\"\n",
              "            title=\"Suggest charts.\"\n",
              "            style=\"display:none;\">\n",
              "\n",
              "<svg xmlns=\"http://www.w3.org/2000/svg\" height=\"24px\"viewBox=\"0 0 24 24\"\n",
              "     width=\"24px\">\n",
              "    <g>\n",
              "        <path d=\"M19 3H5c-1.1 0-2 .9-2 2v14c0 1.1.9 2 2 2h14c1.1 0 2-.9 2-2V5c0-1.1-.9-2-2-2zM9 17H7v-7h2v7zm4 0h-2V7h2v10zm4 0h-2v-4h2v4z\"/>\n",
              "    </g>\n",
              "</svg>\n",
              "  </button>\n",
              "\n",
              "<style>\n",
              "  .colab-df-quickchart {\n",
              "      --bg-color: #E8F0FE;\n",
              "      --fill-color: #1967D2;\n",
              "      --hover-bg-color: #E2EBFA;\n",
              "      --hover-fill-color: #174EA6;\n",
              "      --disabled-fill-color: #AAA;\n",
              "      --disabled-bg-color: #DDD;\n",
              "  }\n",
              "\n",
              "  [theme=dark] .colab-df-quickchart {\n",
              "      --bg-color: #3B4455;\n",
              "      --fill-color: #D2E3FC;\n",
              "      --hover-bg-color: #434B5C;\n",
              "      --hover-fill-color: #FFFFFF;\n",
              "      --disabled-bg-color: #3B4455;\n",
              "      --disabled-fill-color: #666;\n",
              "  }\n",
              "\n",
              "  .colab-df-quickchart {\n",
              "    background-color: var(--bg-color);\n",
              "    border: none;\n",
              "    border-radius: 50%;\n",
              "    cursor: pointer;\n",
              "    display: none;\n",
              "    fill: var(--fill-color);\n",
              "    height: 32px;\n",
              "    padding: 0;\n",
              "    width: 32px;\n",
              "  }\n",
              "\n",
              "  .colab-df-quickchart:hover {\n",
              "    background-color: var(--hover-bg-color);\n",
              "    box-shadow: 0 1px 2px rgba(60, 64, 67, 0.3), 0 1px 3px 1px rgba(60, 64, 67, 0.15);\n",
              "    fill: var(--button-hover-fill-color);\n",
              "  }\n",
              "\n",
              "  .colab-df-quickchart-complete:disabled,\n",
              "  .colab-df-quickchart-complete:disabled:hover {\n",
              "    background-color: var(--disabled-bg-color);\n",
              "    fill: var(--disabled-fill-color);\n",
              "    box-shadow: none;\n",
              "  }\n",
              "\n",
              "  .colab-df-spinner {\n",
              "    border: 2px solid var(--fill-color);\n",
              "    border-color: transparent;\n",
              "    border-bottom-color: var(--fill-color);\n",
              "    animation:\n",
              "      spin 1s steps(1) infinite;\n",
              "  }\n",
              "\n",
              "  @keyframes spin {\n",
              "    0% {\n",
              "      border-color: transparent;\n",
              "      border-bottom-color: var(--fill-color);\n",
              "      border-left-color: var(--fill-color);\n",
              "    }\n",
              "    20% {\n",
              "      border-color: transparent;\n",
              "      border-left-color: var(--fill-color);\n",
              "      border-top-color: var(--fill-color);\n",
              "    }\n",
              "    30% {\n",
              "      border-color: transparent;\n",
              "      border-left-color: var(--fill-color);\n",
              "      border-top-color: var(--fill-color);\n",
              "      border-right-color: var(--fill-color);\n",
              "    }\n",
              "    40% {\n",
              "      border-color: transparent;\n",
              "      border-right-color: var(--fill-color);\n",
              "      border-top-color: var(--fill-color);\n",
              "    }\n",
              "    60% {\n",
              "      border-color: transparent;\n",
              "      border-right-color: var(--fill-color);\n",
              "    }\n",
              "    80% {\n",
              "      border-color: transparent;\n",
              "      border-right-color: var(--fill-color);\n",
              "      border-bottom-color: var(--fill-color);\n",
              "    }\n",
              "    90% {\n",
              "      border-color: transparent;\n",
              "      border-bottom-color: var(--fill-color);\n",
              "    }\n",
              "  }\n",
              "</style>\n",
              "\n",
              "  <script>\n",
              "    async function quickchart(key) {\n",
              "      const quickchartButtonEl =\n",
              "        document.querySelector('#' + key + ' button');\n",
              "      quickchartButtonEl.disabled = true;  // To prevent multiple clicks.\n",
              "      quickchartButtonEl.classList.add('colab-df-spinner');\n",
              "      try {\n",
              "        const charts = await google.colab.kernel.invokeFunction(\n",
              "            'suggestCharts', [key], {});\n",
              "      } catch (error) {\n",
              "        console.error('Error during call to suggestCharts:', error);\n",
              "      }\n",
              "      quickchartButtonEl.classList.remove('colab-df-spinner');\n",
              "      quickchartButtonEl.classList.add('colab-df-quickchart-complete');\n",
              "    }\n",
              "    (() => {\n",
              "      let quickchartButtonEl =\n",
              "        document.querySelector('#df-6f6460b0-8b5e-4ac5-8ea9-1ee9d271fa31 button');\n",
              "      quickchartButtonEl.style.display =\n",
              "        google.colab.kernel.accessAllowed ? 'block' : 'none';\n",
              "    })();\n",
              "  </script>\n",
              "</div>\n",
              "    </div>\n",
              "  </div>\n"
            ]
          },
          "metadata": {},
          "execution_count": 70
        }
      ]
    }
  ]
}